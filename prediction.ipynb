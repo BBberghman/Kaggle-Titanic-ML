{
 "cells": [
  {
   "cell_type": "code",
   "execution_count": 1,
   "metadata": {},
   "outputs": [],
   "source": [
    "import pandas as pd\n",
    "from sklearn.ensemble import RandomForestClassifier\n",
    "from IPython.core.interactiveshell import InteractiveShell\n",
    "InteractiveShell.ast_node_interactivity = \"all\"\n",
    "\n",
    "\n",
    "trainpath = './traindf-2.csv'\n",
    "traindf = pd.read_csv(trainpath, delimiter=\",\")\n",
    "\n",
    "testpath = './testdf-2.csv'\n",
    "testdf = pd.read_csv(testpath, delimiter=\",\")"
   ]
  },
  {
   "cell_type": "code",
   "execution_count": 5,
   "metadata": {},
   "outputs": [
    {
     "data": {
      "text/plain": [
       "RandomForestClassifier(bootstrap=True, ccp_alpha=0.0, class_weight=None,\n",
       "                       criterion='gini', max_depth=None, max_features='auto',\n",
       "                       max_leaf_nodes=None, max_samples=None,\n",
       "                       min_impurity_decrease=0.0, min_impurity_split=None,\n",
       "                       min_samples_leaf=6, min_samples_split=2,\n",
       "                       min_weight_fraction_leaf=0.0, n_estimators=200,\n",
       "                       n_jobs=None, oob_score=False, random_state=1, verbose=0,\n",
       "                       warm_start=False)"
      ]
     },
     "execution_count": 5,
     "metadata": {},
     "output_type": "execute_result"
    },
    {
     "name": "stdout",
     "output_type": "stream",
     "text": [
      "Your submission was successfully saved!\n"
     ]
    }
   ],
   "source": [
    "y = traindf[\"Survived\"]\n",
    "\n",
    "X = traindf.drop(['Survived'], axis=1)\n",
    "X_test = testdf\n",
    "\n",
    "model = RandomForestClassifier(n_estimators=200, min_samples_leaf=5, random_state=1)\n",
    "model.fit(X, y)\n",
    "predictions = model.predict(X_test)\n",
    "\n",
    "output = pd.DataFrame({'PassengerId': testdf.PassengerId, 'Survived': predictions})\n",
    "output.to_csv('my_submission.csv', index=False)\n",
    "print(\"Your submission was successfully saved!\")"
   ]
  },
  {
   "cell_type": "markdown",
   "metadata": {},
   "source": [
    "### Feature importance"
   ]
  },
  {
   "cell_type": "code",
   "execution_count": 7,
   "metadata": {},
   "outputs": [
    {
     "name": "stdout",
     "output_type": "stream",
     "text": [
      "[5.56993283e-02 9.74505696e-02 2.59863370e-02 1.56848617e-02\n",
      " 3.86419928e-02 6.49483268e-02 1.11359420e-02 2.91777340e-02\n",
      " 3.14287941e-02 1.44597325e-02 4.11810611e-02 1.80474747e-01\n",
      " 5.76687125e-02 4.58001013e-03 0.00000000e+00 1.29078030e-03\n",
      " 5.36305638e-03 4.45017241e-03 3.69758768e-03 9.38547469e-03\n",
      " 5.49781185e-05 0.00000000e+00 7.86178091e-03 5.24012710e-03\n",
      " 1.17474065e-02 1.37496430e-01 1.44894057e-01]\n"
     ]
    }
   ],
   "source": [
    "fi = model.feature_importances_"
   ]
  },
  {
   "cell_type": "code",
   "execution_count": null,
   "metadata": {},
   "outputs": [],
   "source": []
  }
 ],
 "metadata": {
  "kernelspec": {
   "display_name": "Python 3",
   "language": "python",
   "name": "python3"
  },
  "language_info": {
   "codemirror_mode": {
    "name": "ipython",
    "version": 3
   },
   "file_extension": ".py",
   "mimetype": "text/x-python",
   "name": "python",
   "nbconvert_exporter": "python",
   "pygments_lexer": "ipython3",
   "version": "3.7.2"
  }
 },
 "nbformat": 4,
 "nbformat_minor": 4
}
